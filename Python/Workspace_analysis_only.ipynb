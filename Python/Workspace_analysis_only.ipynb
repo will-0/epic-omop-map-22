{
 "cells": [
  {
   "cell_type": "markdown",
   "metadata": {},
   "source": [
    "# Hopkins-UCSD vocabulary mapping collaboration"
   ]
  },
  {
   "cell_type": "markdown",
   "metadata": {},
   "source": [
    "## Overview"
   ]
  },
  {
   "attachments": {},
   "cell_type": "markdown",
   "metadata": {},
   "source": [
    "This document pulls together working code that is specific to the OMOP mapping project. In particular, this notebook is the taken from the master notebook, and represents functionality for the mapping analysis (after mapping has been completed).\n",
    "\n",
    "Most of the working functions have been moved to `Resources/custom_funcs.py`"
   ]
  },
  {
   "attachments": {},
   "cell_type": "markdown",
   "metadata": {},
   "source": [
    "## Code setup (run every time)"
   ]
  },
  {
   "cell_type": "markdown",
   "metadata": {},
   "source": [
    "Imports:"
   ]
  },
  {
   "cell_type": "code",
   "execution_count": 2,
   "metadata": {},
   "outputs": [],
   "source": [
    "import sys; sys.path.insert(1, 'Resources')\n",
    "import pandas as pd\n",
    "import numpy as np\n",
    "import sklearn.metrics\n",
    "import json\n",
    "import os\n",
    "from datetime import datetime\n",
    "import sssom.io\n",
    "import yaml\n",
    "import plotly.graph_objects as go\n",
    "from datamanagement import valuedef_update, get_eldef, get_valdef\n",
    "from custom_funcs import *\n",
    "%load_ext memory_profiler\n",
    "%load_ext autoreload\n",
    "%autoreload 2"
   ]
  },
  {
   "cell_type": "markdown",
   "metadata": {},
   "source": [
    "Pulling core definitions:"
   ]
  },
  {
   "cell_type": "code",
   "execution_count": 3,
   "metadata": {},
   "outputs": [],
   "source": [
    "df_eldef = get_eldef(); assert df_eldef.CUI.is_unique\n",
    "df_valdef = get_valdef(); assert df_valdef.ID.is_unique"
   ]
  },
  {
   "attachments": {},
   "cell_type": "markdown",
   "metadata": {},
   "source": [
    "## What elements are included? (run as needed)"
   ]
  },
  {
   "cell_type": "markdown",
   "metadata": {},
   "source": [
    "### Counts"
   ]
  },
  {
   "cell_type": "markdown",
   "metadata": {},
   "source": [
    "#### Element counts"
   ]
  },
  {
   "cell_type": "markdown",
   "metadata": {},
   "source": [
    "By exam area"
   ]
  },
  {
   "cell_type": "code",
   "execution_count": 4,
   "metadata": {},
   "outputs": [
    {
     "data": {
      "text/html": [
       "<div>\n",
       "<style scoped>\n",
       "    .dataframe tbody tr th:only-of-type {\n",
       "        vertical-align: middle;\n",
       "    }\n",
       "\n",
       "    .dataframe tbody tr th {\n",
       "        vertical-align: top;\n",
       "    }\n",
       "\n",
       "    .dataframe thead th {\n",
       "        text-align: right;\n",
       "    }\n",
       "</style>\n",
       "<table border=\"1\" class=\"dataframe\">\n",
       "  <thead>\n",
       "    <tr style=\"text-align: right;\">\n",
       "      <th></th>\n",
       "      <th>examArea</th>\n",
       "      <th>Element Counts</th>\n",
       "    </tr>\n",
       "  </thead>\n",
       "  <tbody>\n",
       "    <tr>\n",
       "      <th>0</th>\n",
       "      <td>Strabismus</td>\n",
       "      <td>80</td>\n",
       "    </tr>\n",
       "    <tr>\n",
       "      <th>1</th>\n",
       "      <td>Contact Lens Current Rx</td>\n",
       "      <td>69</td>\n",
       "    </tr>\n",
       "    <tr>\n",
       "      <th>2</th>\n",
       "      <td>Contact Lens Final Rx</td>\n",
       "      <td>52</td>\n",
       "    </tr>\n",
       "    <tr>\n",
       "      <th>3</th>\n",
       "      <td>Main Exam</td>\n",
       "      <td>52</td>\n",
       "    </tr>\n",
       "    <tr>\n",
       "      <th>4</th>\n",
       "      <td>Extraocular Movement</td>\n",
       "      <td>37</td>\n",
       "    </tr>\n",
       "    <tr>\n",
       "      <th>5</th>\n",
       "      <td>Visual Acuity</td>\n",
       "      <td>30</td>\n",
       "    </tr>\n",
       "    <tr>\n",
       "      <th>6</th>\n",
       "      <td>Manifest</td>\n",
       "      <td>29</td>\n",
       "    </tr>\n",
       "    <tr>\n",
       "      <th>7</th>\n",
       "      <td>Final Eyeglasses Rx</td>\n",
       "      <td>25</td>\n",
       "    </tr>\n",
       "    <tr>\n",
       "      <th>8</th>\n",
       "      <td>Wearing Rx</td>\n",
       "      <td>24</td>\n",
       "    </tr>\n",
       "    <tr>\n",
       "      <th>9</th>\n",
       "      <td>Cycloplegic</td>\n",
       "      <td>16</td>\n",
       "    </tr>\n",
       "    <tr>\n",
       "      <th>10</th>\n",
       "      <td>Conf Visual Fields</td>\n",
       "      <td>16</td>\n",
       "    </tr>\n",
       "    <tr>\n",
       "      <th>11</th>\n",
       "      <td>Tonometry</td>\n",
       "      <td>13</td>\n",
       "    </tr>\n",
       "    <tr>\n",
       "      <th>12</th>\n",
       "      <td>BAT</td>\n",
       "      <td>10</td>\n",
       "    </tr>\n",
       "    <tr>\n",
       "      <th>13</th>\n",
       "      <td>Pupils</td>\n",
       "      <td>10</td>\n",
       "    </tr>\n",
       "    <tr>\n",
       "      <th>14</th>\n",
       "      <td>Keratometry</td>\n",
       "      <td>10</td>\n",
       "    </tr>\n",
       "    <tr>\n",
       "      <th>15</th>\n",
       "      <td>Gonioscopy</td>\n",
       "      <td>9</td>\n",
       "    </tr>\n",
       "    <tr>\n",
       "      <th>16</th>\n",
       "      <td>Contact Lens History</td>\n",
       "      <td>8</td>\n",
       "    </tr>\n",
       "    <tr>\n",
       "      <th>17</th>\n",
       "      <td>Stereo</td>\n",
       "      <td>6</td>\n",
       "    </tr>\n",
       "    <tr>\n",
       "      <th>18</th>\n",
       "      <td>External Exam</td>\n",
       "      <td>4</td>\n",
       "    </tr>\n",
       "    <tr>\n",
       "      <th>19</th>\n",
       "      <td>Schirmers</td>\n",
       "      <td>4</td>\n",
       "    </tr>\n",
       "    <tr>\n",
       "      <th>20</th>\n",
       "      <td>Pachymetry</td>\n",
       "      <td>4</td>\n",
       "    </tr>\n",
       "    <tr>\n",
       "      <th>21</th>\n",
       "      <td>Color</td>\n",
       "      <td>4</td>\n",
       "    </tr>\n",
       "    <tr>\n",
       "      <th>22</th>\n",
       "      <td>Dilation</td>\n",
       "      <td>4</td>\n",
       "    </tr>\n",
       "    <tr>\n",
       "      <th>23</th>\n",
       "      <td>Dye Disappearance</td>\n",
       "      <td>3</td>\n",
       "    </tr>\n",
       "    <tr>\n",
       "      <th>24</th>\n",
       "      <td>Worth 4 Dot</td>\n",
       "      <td>3</td>\n",
       "    </tr>\n",
       "    <tr>\n",
       "      <th>25</th>\n",
       "      <td>Amsler</td>\n",
       "      <td>3</td>\n",
       "    </tr>\n",
       "    <tr>\n",
       "      <th>26</th>\n",
       "      <td>PAM</td>\n",
       "      <td>3</td>\n",
       "    </tr>\n",
       "    <tr>\n",
       "      <th>27</th>\n",
       "      <td>Neuro/Psych</td>\n",
       "      <td>3</td>\n",
       "    </tr>\n",
       "    <tr>\n",
       "      <th>28</th>\n",
       "      <td>C/D Ratio</td>\n",
       "      <td>2</td>\n",
       "    </tr>\n",
       "    <tr>\n",
       "      <th>29</th>\n",
       "      <td>Additional Tests</td>\n",
       "      <td>1</td>\n",
       "    </tr>\n",
       "    <tr>\n",
       "      <th>30</th>\n",
       "      <td>Contact Lens</td>\n",
       "      <td>1</td>\n",
       "    </tr>\n",
       "  </tbody>\n",
       "</table>\n",
       "</div>"
      ],
      "text/plain": [
       "                   examArea  Element Counts\n",
       "0                Strabismus              80\n",
       "1   Contact Lens Current Rx              69\n",
       "2     Contact Lens Final Rx              52\n",
       "3                 Main Exam              52\n",
       "4      Extraocular Movement              37\n",
       "5             Visual Acuity              30\n",
       "6                  Manifest              29\n",
       "7       Final Eyeglasses Rx              25\n",
       "8                Wearing Rx              24\n",
       "9               Cycloplegic              16\n",
       "10       Conf Visual Fields              16\n",
       "11                Tonometry              13\n",
       "12                      BAT              10\n",
       "13                   Pupils              10\n",
       "14              Keratometry              10\n",
       "15               Gonioscopy               9\n",
       "16     Contact Lens History               8\n",
       "17                   Stereo               6\n",
       "18            External Exam               4\n",
       "19                Schirmers               4\n",
       "20               Pachymetry               4\n",
       "21                    Color               4\n",
       "22                 Dilation               4\n",
       "23        Dye Disappearance               3\n",
       "24              Worth 4 Dot               3\n",
       "25                   Amsler               3\n",
       "26                      PAM               3\n",
       "27              Neuro/Psych               3\n",
       "28                C/D Ratio               2\n",
       "29         Additional Tests               1\n",
       "30             Contact Lens               1"
      ]
     },
     "execution_count": 4,
     "metadata": {},
     "output_type": "execute_result"
    }
   ],
   "source": [
    "df_elcount_byexamarea = pd.DataFrame(df_eldef.examArea.value_counts())\\\n",
    "    .reset_index().rename(columns={\"index\":\"examArea\", \"examArea\":\"Element Counts\"})\n",
    "\n",
    "df_elcount_byexamarea.to_csv(\"Exports/DefinitionCounts/ElementsByExamArea.csv\", index=False)\n",
    "df_elcount_byexamarea"
   ]
  },
  {
   "cell_type": "markdown",
   "metadata": {},
   "source": [
    "#### Prepopulated values"
   ]
  },
  {
   "cell_type": "markdown",
   "metadata": {},
   "source": [
    "By exam area"
   ]
  },
  {
   "cell_type": "code",
   "execution_count": 5,
   "metadata": {},
   "outputs": [
    {
     "data": {
      "text/html": [
       "<div>\n",
       "<style scoped>\n",
       "    .dataframe tbody tr th:only-of-type {\n",
       "        vertical-align: middle;\n",
       "    }\n",
       "\n",
       "    .dataframe tbody tr th {\n",
       "        vertical-align: top;\n",
       "    }\n",
       "\n",
       "    .dataframe thead th {\n",
       "        text-align: right;\n",
       "    }\n",
       "</style>\n",
       "<table border=\"1\" class=\"dataframe\">\n",
       "  <thead>\n",
       "    <tr style=\"text-align: right;\">\n",
       "      <th></th>\n",
       "      <th>examArea</th>\n",
       "      <th>Prepopulated Option Counts</th>\n",
       "    </tr>\n",
       "  </thead>\n",
       "  <tbody>\n",
       "    <tr>\n",
       "      <th>0</th>\n",
       "      <td>Main Exam</td>\n",
       "      <td>375</td>\n",
       "    </tr>\n",
       "    <tr>\n",
       "      <th>1</th>\n",
       "      <td>Visual Acuity</td>\n",
       "      <td>27</td>\n",
       "    </tr>\n",
       "    <tr>\n",
       "      <th>2</th>\n",
       "      <td>Gonioscopy</td>\n",
       "      <td>22</td>\n",
       "    </tr>\n",
       "    <tr>\n",
       "      <th>3</th>\n",
       "      <td>Pupils</td>\n",
       "      <td>20</td>\n",
       "    </tr>\n",
       "    <tr>\n",
       "      <th>4</th>\n",
       "      <td>Dilation</td>\n",
       "      <td>12</td>\n",
       "    </tr>\n",
       "    <tr>\n",
       "      <th>5</th>\n",
       "      <td>Worth 4 Dot</td>\n",
       "      <td>10</td>\n",
       "    </tr>\n",
       "    <tr>\n",
       "      <th>6</th>\n",
       "      <td>Strabismus</td>\n",
       "      <td>8</td>\n",
       "    </tr>\n",
       "    <tr>\n",
       "      <th>7</th>\n",
       "      <td>Tonometry</td>\n",
       "      <td>6</td>\n",
       "    </tr>\n",
       "    <tr>\n",
       "      <th>8</th>\n",
       "      <td>Wearing Rx</td>\n",
       "      <td>4</td>\n",
       "    </tr>\n",
       "    <tr>\n",
       "      <th>9</th>\n",
       "      <td>Final Eyeglasses Rx</td>\n",
       "      <td>4</td>\n",
       "    </tr>\n",
       "    <tr>\n",
       "      <th>10</th>\n",
       "      <td>Color</td>\n",
       "      <td>3</td>\n",
       "    </tr>\n",
       "    <tr>\n",
       "      <th>11</th>\n",
       "      <td>Keratometry</td>\n",
       "      <td>3</td>\n",
       "    </tr>\n",
       "    <tr>\n",
       "      <th>12</th>\n",
       "      <td>Cycloplegic</td>\n",
       "      <td>2</td>\n",
       "    </tr>\n",
       "    <tr>\n",
       "      <th>13</th>\n",
       "      <td>Conf Visual Fields</td>\n",
       "      <td>2</td>\n",
       "    </tr>\n",
       "  </tbody>\n",
       "</table>\n",
       "</div>"
      ],
      "text/plain": [
       "               examArea  Prepopulated Option Counts\n",
       "0             Main Exam                         375\n",
       "1         Visual Acuity                          27\n",
       "2            Gonioscopy                          22\n",
       "3                Pupils                          20\n",
       "4              Dilation                          12\n",
       "5           Worth 4 Dot                          10\n",
       "6            Strabismus                           8\n",
       "7             Tonometry                           6\n",
       "8            Wearing Rx                           4\n",
       "9   Final Eyeglasses Rx                           4\n",
       "10                Color                           3\n",
       "11          Keratometry                           3\n",
       "12          Cycloplegic                           2\n",
       "13   Conf Visual Fields                           2"
      ]
     },
     "execution_count": 5,
     "metadata": {},
     "output_type": "execute_result"
    }
   ],
   "source": [
    "df_valcount_byexamarea = pd.DataFrame(df_valdef.merge(df_eldef, on=\"CUI\").examArea.value_counts())\\\n",
    "    .reset_index().rename(columns={\"index\":\"examArea\", \"examArea\":\"Prepopulated Option Counts\"})\n",
    "\n",
    "df_valcount_byexamarea.to_csv(\"Exports/DefinitionCounts/PrepopulatedOptionsByExamArea.csv\", index=False)\n",
    "df_valcount_byexamarea"
   ]
  },
  {
   "cell_type": "markdown",
   "metadata": {},
   "source": [
    "By data element"
   ]
  },
  {
   "cell_type": "code",
   "execution_count": 6,
   "metadata": {},
   "outputs": [
    {
     "data": {
      "text/html": [
       "<div>\n",
       "<style scoped>\n",
       "    .dataframe tbody tr th:only-of-type {\n",
       "        vertical-align: middle;\n",
       "    }\n",
       "\n",
       "    .dataframe tbody tr th {\n",
       "        vertical-align: top;\n",
       "    }\n",
       "\n",
       "    .dataframe thead th {\n",
       "        text-align: right;\n",
       "    }\n",
       "</style>\n",
       "<table border=\"1\" class=\"dataframe\">\n",
       "  <thead>\n",
       "    <tr style=\"text-align: right;\">\n",
       "      <th></th>\n",
       "      <th>examArea</th>\n",
       "      <th>dataElement</th>\n",
       "      <th>Prepopulated Option Counts</th>\n",
       "    </tr>\n",
       "  </thead>\n",
       "  <tbody>\n",
       "    <tr>\n",
       "      <th>0</th>\n",
       "      <td>Main Exam</td>\n",
       "      <td>Right Eye Cornea</td>\n",
       "      <td>69</td>\n",
       "    </tr>\n",
       "    <tr>\n",
       "      <th>1</th>\n",
       "      <td>Main Exam</td>\n",
       "      <td>Right Eye Macula</td>\n",
       "      <td>59</td>\n",
       "    </tr>\n",
       "    <tr>\n",
       "      <th>2</th>\n",
       "      <td>Main Exam</td>\n",
       "      <td>Right Eye Conjunctiva</td>\n",
       "      <td>44</td>\n",
       "    </tr>\n",
       "    <tr>\n",
       "      <th>3</th>\n",
       "      <td>Main Exam</td>\n",
       "      <td>Right Eye Lids</td>\n",
       "      <td>37</td>\n",
       "    </tr>\n",
       "    <tr>\n",
       "      <th>4</th>\n",
       "      <td>Main Exam</td>\n",
       "      <td>Right Eye Periphery</td>\n",
       "      <td>33</td>\n",
       "    </tr>\n",
       "    <tr>\n",
       "      <th>5</th>\n",
       "      <td>Main Exam</td>\n",
       "      <td>External Right Eye</td>\n",
       "      <td>32</td>\n",
       "    </tr>\n",
       "    <tr>\n",
       "      <th>6</th>\n",
       "      <td>Visual Acuity</td>\n",
       "      <td>Method</td>\n",
       "      <td>25</td>\n",
       "    </tr>\n",
       "    <tr>\n",
       "      <th>7</th>\n",
       "      <td>Main Exam</td>\n",
       "      <td>Right Eye Lens</td>\n",
       "      <td>23</td>\n",
       "    </tr>\n",
       "    <tr>\n",
       "      <th>8</th>\n",
       "      <td>Main Exam</td>\n",
       "      <td>Right Eye Iris</td>\n",
       "      <td>18</td>\n",
       "    </tr>\n",
       "    <tr>\n",
       "      <th>9</th>\n",
       "      <td>Main Exam</td>\n",
       "      <td>Right Eye Vessels</td>\n",
       "      <td>17</td>\n",
       "    </tr>\n",
       "    <tr>\n",
       "      <th>10</th>\n",
       "      <td>Main Exam</td>\n",
       "      <td>Right Eye AC</td>\n",
       "      <td>16</td>\n",
       "    </tr>\n",
       "    <tr>\n",
       "      <th>11</th>\n",
       "      <td>Gonioscopy</td>\n",
       "      <td>Right Eye Temporal</td>\n",
       "      <td>15</td>\n",
       "    </tr>\n",
       "    <tr>\n",
       "      <th>12</th>\n",
       "      <td>Main Exam</td>\n",
       "      <td>Right Eye Disc</td>\n",
       "      <td>14</td>\n",
       "    </tr>\n",
       "    <tr>\n",
       "      <th>13</th>\n",
       "      <td>Main Exam</td>\n",
       "      <td>Right Eye Vitreous</td>\n",
       "      <td>13</td>\n",
       "    </tr>\n",
       "    <tr>\n",
       "      <th>14</th>\n",
       "      <td>Pupils</td>\n",
       "      <td>Right Eye APD</td>\n",
       "      <td>12</td>\n",
       "    </tr>\n",
       "    <tr>\n",
       "      <th>15</th>\n",
       "      <td>Dilation</td>\n",
       "      <td>Drops</td>\n",
       "      <td>9</td>\n",
       "    </tr>\n",
       "    <tr>\n",
       "      <th>16</th>\n",
       "      <td>Pupils</td>\n",
       "      <td>Right Eye React</td>\n",
       "      <td>8</td>\n",
       "    </tr>\n",
       "    <tr>\n",
       "      <th>17</th>\n",
       "      <td>Strabismus</td>\n",
       "      <td>Method</td>\n",
       "      <td>8</td>\n",
       "    </tr>\n",
       "    <tr>\n",
       "      <th>18</th>\n",
       "      <td>Tonometry</td>\n",
       "      <td>Method</td>\n",
       "      <td>6</td>\n",
       "    </tr>\n",
       "    <tr>\n",
       "      <th>19</th>\n",
       "      <td>Worth 4 Dot</td>\n",
       "      <td>Near</td>\n",
       "      <td>5</td>\n",
       "    </tr>\n",
       "    <tr>\n",
       "      <th>20</th>\n",
       "      <td>Worth 4 Dot</td>\n",
       "      <td>Distance</td>\n",
       "      <td>5</td>\n",
       "    </tr>\n",
       "    <tr>\n",
       "      <th>21</th>\n",
       "      <td>Gonioscopy</td>\n",
       "      <td>Comments</td>\n",
       "      <td>4</td>\n",
       "    </tr>\n",
       "    <tr>\n",
       "      <th>22</th>\n",
       "      <td>Wearing Rx</td>\n",
       "      <td>Type</td>\n",
       "      <td>4</td>\n",
       "    </tr>\n",
       "    <tr>\n",
       "      <th>23</th>\n",
       "      <td>Final Eyeglasses Rx</td>\n",
       "      <td>Type</td>\n",
       "      <td>4</td>\n",
       "    </tr>\n",
       "    <tr>\n",
       "      <th>24</th>\n",
       "      <td>Keratometry</td>\n",
       "      <td>Method</td>\n",
       "      <td>3</td>\n",
       "    </tr>\n",
       "    <tr>\n",
       "      <th>25</th>\n",
       "      <td>Color</td>\n",
       "      <td>Method</td>\n",
       "      <td>3</td>\n",
       "    </tr>\n",
       "    <tr>\n",
       "      <th>26</th>\n",
       "      <td>Dilation</td>\n",
       "      <td>Eyes</td>\n",
       "      <td>3</td>\n",
       "    </tr>\n",
       "    <tr>\n",
       "      <th>27</th>\n",
       "      <td>Conf Visual Fields</td>\n",
       "      <td>Method</td>\n",
       "      <td>2</td>\n",
       "    </tr>\n",
       "    <tr>\n",
       "      <th>28</th>\n",
       "      <td>Cycloplegic</td>\n",
       "      <td>Type</td>\n",
       "      <td>2</td>\n",
       "    </tr>\n",
       "    <tr>\n",
       "      <th>29</th>\n",
       "      <td>Visual Acuity</td>\n",
       "      <td>Correction</td>\n",
       "      <td>2</td>\n",
       "    </tr>\n",
       "    <tr>\n",
       "      <th>30</th>\n",
       "      <td>Gonioscopy</td>\n",
       "      <td>Right Eye Inferior</td>\n",
       "      <td>1</td>\n",
       "    </tr>\n",
       "    <tr>\n",
       "      <th>31</th>\n",
       "      <td>Gonioscopy</td>\n",
       "      <td>Right Eye Superior</td>\n",
       "      <td>1</td>\n",
       "    </tr>\n",
       "    <tr>\n",
       "      <th>32</th>\n",
       "      <td>Gonioscopy</td>\n",
       "      <td>Right Eye Nasal</td>\n",
       "      <td>1</td>\n",
       "    </tr>\n",
       "  </tbody>\n",
       "</table>\n",
       "</div>"
      ],
      "text/plain": [
       "               examArea            dataElement  Prepopulated Option Counts\n",
       "0             Main Exam       Right Eye Cornea                          69\n",
       "1             Main Exam       Right Eye Macula                          59\n",
       "2             Main Exam  Right Eye Conjunctiva                          44\n",
       "3             Main Exam         Right Eye Lids                          37\n",
       "4             Main Exam    Right Eye Periphery                          33\n",
       "5             Main Exam     External Right Eye                          32\n",
       "6         Visual Acuity                 Method                          25\n",
       "7             Main Exam         Right Eye Lens                          23\n",
       "8             Main Exam         Right Eye Iris                          18\n",
       "9             Main Exam      Right Eye Vessels                          17\n",
       "10            Main Exam           Right Eye AC                          16\n",
       "11           Gonioscopy     Right Eye Temporal                          15\n",
       "12            Main Exam         Right Eye Disc                          14\n",
       "13            Main Exam     Right Eye Vitreous                          13\n",
       "14               Pupils          Right Eye APD                          12\n",
       "15             Dilation                  Drops                           9\n",
       "16               Pupils        Right Eye React                           8\n",
       "17           Strabismus                 Method                           8\n",
       "18            Tonometry                 Method                           6\n",
       "19          Worth 4 Dot                   Near                           5\n",
       "20          Worth 4 Dot               Distance                           5\n",
       "21           Gonioscopy               Comments                           4\n",
       "22           Wearing Rx                   Type                           4\n",
       "23  Final Eyeglasses Rx                   Type                           4\n",
       "24          Keratometry                 Method                           3\n",
       "25                Color                 Method                           3\n",
       "26             Dilation                   Eyes                           3\n",
       "27   Conf Visual Fields                 Method                           2\n",
       "28          Cycloplegic                   Type                           2\n",
       "29        Visual Acuity             Correction                           2\n",
       "30           Gonioscopy     Right Eye Inferior                           1\n",
       "31           Gonioscopy     Right Eye Superior                           1\n",
       "32           Gonioscopy        Right Eye Nasal                           1"
      ]
     },
     "execution_count": 6,
     "metadata": {},
     "output_type": "execute_result"
    }
   ],
   "source": [
    "df_valcount_bydataelement = pd.DataFrame(df_valdef.CUI.value_counts()).rename(columns={\"CUI\":\"Prepopulated Option Counts\"}).merge(df_eldef, left_index=True, right_on=\"CUI\")\\\n",
    "    [[\"CUI\", \"examArea\", \"dataElement\", \"Prepopulated Option Counts\"]]\\\n",
    "        .drop(columns=[\"CUI\"])\n",
    "\n",
    "df_valcount_bydataelement.to_csv(\"Exports/DefinitionCounts/PrepopulatedOptionsByElement.csv\", index=False)\n",
    "df_valcount_bydataelement.reset_index(drop=True)"
   ]
  },
  {
   "attachments": {},
   "cell_type": "markdown",
   "metadata": {},
   "source": [
    "## Analyse mappings (run as needed)"
   ]
  },
  {
   "attachments": {},
   "cell_type": "markdown",
   "metadata": {},
   "source": [
    "Create output directory, if doesn't already exist"
   ]
  },
  {
   "cell_type": "code",
   "execution_count": 7,
   "metadata": {},
   "outputs": [],
   "source": [
    "save_out = True\n",
    "outdir = create_outdir()"
   ]
  },
  {
   "attachments": {},
   "cell_type": "markdown",
   "metadata": {},
   "source": [
    "### Import mappings"
   ]
  },
  {
   "attachments": {},
   "cell_type": "markdown",
   "metadata": {},
   "source": [
    "Mapping document paths"
   ]
  },
  {
   "cell_type": "code",
   "execution_count": 8,
   "metadata": {},
   "outputs": [],
   "source": [
    "df_el_sb_path = \"Resources/Mappings/SB_ElementMapping.xlsx\"\n",
    "df_el_cc_path = \"Resources/Mappings/CC_ElementMapping.xlsx\"\n",
    "df_el_consensus_path = \"Resources/Mappings/CONS_ElementMapping.xlsx\"\n",
    "df_val_sb_path = \"Resources/Mappings/SB_ValueMapping.xlsx\"\n",
    "df_val_cc_path = \"Resources/Mappings/CC_ValueMapping.xlsx\"\n",
    "df_val_consensus_path = \"Resources/Mappings/CONS_ValueMapping.xlsx\""
   ]
  },
  {
   "attachments": {},
   "cell_type": "markdown",
   "metadata": {},
   "source": [
    "Import as dataframes"
   ]
  },
  {
   "cell_type": "code",
   "execution_count": 9,
   "metadata": {},
   "outputs": [],
   "source": [
    "# Element mappings\n",
    "df_el_sb = pd.read_excel(df_el_sb_path)[[\"sourceCode\", \"equivalence\", \"conceptId\", 'comment']]\\\n",
    "        .astype({\"sourceCode\":\"string\", \"equivalence\":\"string\", \"conceptId\":\"Int64\", \"comment\":\"string\"})\n",
    "df_el_cc = pd.read_excel(df_el_cc_path)[[\"sourceCode\", \"equivalence\", \"conceptId\", 'comment']]\\\n",
    "        .astype({\"sourceCode\":\"string\", \"equivalence\":\"string\", \"conceptId\":\"Int64\", \"comment\":\"string\"})\n",
    "df_el_consensus = pd.read_excel(df_el_consensus_path)[[\"sourceCode\", \"equivalence\", \"conceptId\", \"comment\"]]\\\n",
    "        .astype({\"sourceCode\":\"string\", \"equivalence\":\"string\", \"conceptId\":\"Int64\"})\n",
    "\n",
    "# Value mappings\n",
    "df_val_sb = pd.read_excel(df_val_sb_path)[[\"sourceCode\", \"equivalence\", \"conceptId\", 'comment']]\\\n",
    "        .astype({\"sourceCode\":\"Int64\", \"equivalence\":\"string\", \"conceptId\":\"Int64\", \"comment\":\"string\"})\n",
    "df_val_cc = pd.read_excel(df_val_cc_path)[[\"sourceCode\", \"equivalence\", \"conceptId\", 'comment']]\\\n",
    "        .astype({\"sourceCode\":\"Int64\", \"equivalence\":\"string\", \"conceptId\":\"Int64\", \"comment\":\"string\"})\n",
    "df_val_consensus = pd.read_excel(df_val_consensus_path)[[\"sourceCode\", \"equivalence\", \"conceptId\", \"comment\"]]\\\n",
    "        .astype({\"sourceCode\":\"Int64\", \"equivalence\":\"string\", \"conceptId\":\"Int64\"})\n",
    "\n",
    "# Assert that they're all the same shape\n",
    "assert df_el_consensus.shape == df_el_sb.shape == df_el_cc.shape\n",
    "assert df_val_consensus.shape == df_val_sb.shape == df_val_cc.shape\n",
    "\n",
    "# The following section is to filter out exam areas that were excluded from the study\n",
    "apply_filter = True\n",
    "\n",
    "if apply_filter:\n",
    "    (df_el_sb, df_el_cc, df_el_consensus) = custom_filter((df_el_sb, df_el_cc, df_el_consensus), 'element')\n",
    "    (df_val_sb, df_val_cc, df_val_consensus) = custom_filter((df_val_sb, df_val_cc, df_val_consensus), 'value')"
   ]
  },
  {
   "attachments": {},
   "cell_type": "markdown",
   "metadata": {},
   "source": [
    "### Create get breakdown analysis values"
   ]
  },
  {
   "cell_type": "code",
   "execution_count": 10,
   "metadata": {},
   "outputs": [],
   "source": [
    "analysis_version = 2\n",
    "dict_analyse = {\n",
    "    \"SB elements\":analyze_mapping(df_el_sb, analysis_version=analysis_version),\n",
    "    \"CC elements\":analyze_mapping(df_el_cc, analysis_version=analysis_version),\n",
    "    \"SB values\":analyze_mapping(df_val_sb, analysis_version=analysis_version),\n",
    "    \"CC values\":analyze_mapping(df_val_cc, analysis_version=analysis_version),\n",
    "    \"CONS elements\":analyze_mapping(df_el_consensus, analysis_version=analysis_version),\n",
    "    \"CONS values\":analyze_mapping(df_val_consensus, analysis_version=analysis_version)\n",
    "}\n",
    "\n",
    "if save_out:\n",
    "    with open(outdir + \"/Analysis/filtered_values.json\", 'w') as outfile:\n",
    "        json.dump(dict_analyse, outfile, indent=4)"
   ]
  },
  {
   "attachments": {},
   "cell_type": "markdown",
   "metadata": {},
   "source": [
    "### Figures"
   ]
  },
  {
   "cell_type": "markdown",
   "metadata": {},
   "source": [
    "##### Pie chart"
   ]
  },
  {
   "cell_type": "code",
   "execution_count": 8,
   "metadata": {},
   "outputs": [],
   "source": [
    "# individual_maps = [\"SB elements\", \"CC elements\", \"SB values\", \"CC values\"]\n",
    "# consensus_maps = [\"CONS elements\", \"CONS values\"]\n",
    "# working_list = consensus_maps   #use this to select what's viewed\n",
    "\n",
    "# for label_working in working_list:\n",
    "#     dict_working = dict_analyse[label_working]\n",
    "#     fig, ax = plt.subplots(ncols=3, figsize=[20,4])\n",
    "\n",
    "#     labels, values = zip(*dict_working[\"equivalence\"].items())\n",
    "#     ax[0].pie(values, labels=labels);\n",
    "#     ax[0].set_title(\"Equivalence\");\n",
    "\n",
    "#     labels, values = zip(*dict_working[\"unmapped\"].items())\n",
    "#     ax[1].pie(values, labels=labels);\n",
    "#     ax[1].set_title(\"Flags for UNMAPPED\");\n",
    "\n",
    "#     labels, values = zip(*dict_working[\"wider\"].items())\n",
    "#     ax[2].pie(values, labels=labels);\n",
    "#     ax[2].set_title(\"Flags for WIDER\");\n",
    "\n",
    "#     if save_out: plt.savefig(outdir + \"/Analysis/\" + label_working)"
   ]
  },
  {
   "cell_type": "markdown",
   "metadata": {},
   "source": [
    "##### Sankey diagram"
   ]
  },
  {
   "cell_type": "code",
   "execution_count": 9,
   "metadata": {},
   "outputs": [],
   "source": [
    "analyse_list = [\"SB elements\", \"CC elements\", \"SB values\", \"CC values\", \"CONS elements\", \"CONS values\"]"
   ]
  },
  {
   "cell_type": "code",
   "execution_count": 10,
   "metadata": {},
   "outputs": [],
   "source": [
    "def lighten_color(color, amount=0.5):\n",
    "    \"\"\"\n",
    "    Lightens the given color by multiplying (1-luminosity) by the given amount.\n",
    "    Input can be matplotlib color string, hex string, or RGB tuple.\n",
    "\n",
    "    Examples:\n",
    "    >> lighten_color('g', 0.3)\n",
    "    >> lighten_color('#F034A3', 0.6)\n",
    "    >> lighten_color((.3,.55,.1), 0.5)\n",
    "    \"\"\"\n",
    "    import matplotlib.colors as mc\n",
    "    import colorsys\n",
    "    try:\n",
    "        c = mc.cnames[color]\n",
    "    except:\n",
    "        c = color\n",
    "    c = colorsys.rgb_to_hls(*mc.to_rgb(c))\n",
    "    out = colorsys.hls_to_rgb(c[0], 1 - amount * (1 - c[1]), c[2])\n",
    "    return \"rgb\" + str(tuple(map(lambda x: round(x*255), out)))"
   ]
  },
  {
   "cell_type": "code",
   "execution_count": 11,
   "metadata": {},
   "outputs": [],
   "source": [
    "colour_map = {'BASE': \"#808080\",\n",
    "    'EQUAL': \"#47dcf5\",#            Stoled from INDIRECT \"#ffb47b\",\n",
    "    'WIDER': \"#33d6ab\",\n",
    "    'NARROWER': \"#f27762\",\n",
    "    'UNMATCHED': \"#d56f8c\",\n",
    "    'VALSMAPPED': \"#ffacff\",\n",
    "    'NOMATCH': \"#d56f8c\",\n",
    "    'INDIRECT': \"#47dcf5\",\n",
    "    'SUBFIELD': \"#000000\",\n",
    "    'LATERALITY': \"#c5ed99\",\n",
    "    'CONCEPTMISSING': \"#bc82fb\",\n",
    "    'CONCEPTMISSING&LATERALITY': \"#fed575\",\n",
    "    'OTHER': \"#ffacff\" # give it the same colour as VALSMAPPED \n",
    " }"
   ]
  },
  {
   "cell_type": "code",
   "execution_count": 35,
   "metadata": {},
   "outputs": [],
   "source": [
    "default_colours = [\"#808080\", \"#ffb47b\", \"#33d6ab\", \"#f27762\", \"#d56f8c\", \"#000000\", \"#d56f8c\", \"#c5ed99\", \"#47dcf5\", \"#ffacff\", \"#fed575\", \"#bc82fb\"]\n",
    "# default_colours_b = [\"#808080\", \"#d56f8c\",\"#33d6ab\",\"#f27762\",\"#ffb47b\",\"#bc82fb\",\"#c5ed99\",\"#fed575\",\"#ffacff\",\"#47dcf5\",\"#d56f8c\"]"
   ]
  },
  {
   "cell_type": "code",
   "execution_count": 16,
   "metadata": {},
   "outputs": [],
   "source": [
    "def __labelhierarchycategorize(label):\n",
    "    if label in [\"EQUAL\", \"WIDER\", \"NARROWER\", \"UNMATCHED\"]:\n",
    "        return 0.5\n",
    "    else:\n",
    "        return 1\n",
    "\n",
    "def get_sankey_values_from_dictanalyse(mdict):\n",
    "    dictkeymap = {\n",
    "        \"equivalence\": \"BASE\",\n",
    "        \"unmapped\":\"UNMATCHED\",\n",
    "        \"wider\":\"WIDER\"\n",
    "    }\n",
    "\n",
    "    namemap_counter = 0\n",
    "    namemap_dict = {}\n",
    "\n",
    "    source = []\n",
    "    target = []\n",
    "    value = []\n",
    "    labels = []\n",
    "    xvalues = []\n",
    "    yvalues = []\n",
    "    node_colours = []\n",
    "    link_colors = []\n",
    "\n",
    "    iter = 0\n",
    "\n",
    "    for dictkey in mdict.keys():\n",
    "        if dictkeymap[dictkey] not in namemap_dict.keys():\n",
    "            namemap_dict[dictkeymap[dictkey]] = namemap_counter\n",
    "            namemap_counter += 1\n",
    "            if dictkeymap[dictkey] == \"BASE\":\n",
    "                labels.append(\"\")#\"COUNT: \" + str(sum(mdict[dictkey].values())))\n",
    "                xvalues.append(0)\n",
    "                yvalues.append(0.0)\n",
    "                node_colours.append(colour_map[\"BASE\"])\n",
    "        \n",
    "        for label in mdict[dictkey]:\n",
    "            if label not in namemap_dict.keys():\n",
    "                namemap_dict[label] = namemap_counter\n",
    "                namemap_counter += 1\n",
    "                labels.append(label + \": \" + str(mdict[dictkey][label]))\n",
    "                xvalues.append(__labelhierarchycategorize(label))\n",
    "                yvalues.append(0.2 - iter)\n",
    "                node_colours.append(colour_map[label])\n",
    "                iter += 0.02\n",
    "\n",
    "            source.append(namemap_dict[dictkeymap[dictkey]])\n",
    "            target.append(namemap_dict[label])\n",
    "            value.append(mdict[dictkey][label])\n",
    "            link_colors.append(lighten_color(colour_map[label]))\n",
    "            \n",
    "    return namemap_dict, source, target, value, labels, xvalues, yvalues, node_colours, link_colors"
   ]
  },
  {
   "cell_type": "code",
   "execution_count": 17,
   "metadata": {},
   "outputs": [],
   "source": [
    "namemap_dict, source, target, value, labels, xvalues, yvalues, node_colours, link_colors = get_sankey_values_from_dictanalyse(\\\n",
    "    combine_analyse(dict_analyse[\"CONS elements\"], dict_analyse[\"CONS values\"]))"
   ]
  },
  {
   "cell_type": "code",
   "execution_count": 20,
   "metadata": {},
   "outputs": [
    {
     "data": {
      "application/vnd.plotly.v1+json": {
       "config": {
        "plotlyServerURL": "https://plot.ly"
       },
       "data": [
        {
         "arrangement": "snap",
         "link": {
          "color": [
           "rgb(163, 238, 250)",
           "rgb(153, 234, 213)",
           "rgb(248, 187, 176)",
           "rgb(234, 183, 197)",
           "rgb(255, 214, 255)",
           "rgb(234, 183, 197)",
           "rgb(226, 246, 204)",
           "rgb(222, 193, 253)",
           "rgb(254, 234, 186)"
          ],
          "source": [
           0,
           0,
           0,
           0,
           4,
           4,
           2,
           2,
           2
          ],
          "target": [
           1,
           2,
           3,
           4,
           5,
           6,
           7,
           8,
           9
          ],
          "value": [
           177,
           348,
           25,
           148,
           78,
           70,
           160,
           85,
           103
          ]
         },
         "meta": {
          "textposition": "top center"
         },
         "node": {
          "color": [
           "#808080",
           "#47dcf5",
           "#33d6ab",
           "#f27762",
           "#d56f8c",
           "#ffacff",
           "#d56f8c",
           "#c5ed99",
           "#bc82fb",
           "#fed575"
          ],
          "label": [
           "",
           "",
           "",
           "",
           "",
           "",
           "",
           "",
           "",
           ""
          ],
          "line": {
           "color": "black",
           "width": 0.5
          },
          "pad": 15,
          "thickness": 15,
          "x": [
           0,
           0.5,
           0.5,
           0.5,
           0.5,
           1,
           1,
           1,
           1,
           1
          ],
          "y": [
           0,
           0.2,
           0.18000000000000002,
           0.16,
           0.14,
           0.12000000000000001,
           0.1,
           0.08,
           0.06,
           0.04000000000000001
          ]
         },
         "type": "sankey",
         "valueformat": ".0f",
         "valuesuffix": "TWh"
        }
       ],
       "layout": {
        "font": {
         "size": 15
        },
        "height": 600,
        "template": {
         "data": {
          "bar": [
           {
            "error_x": {
             "color": "#2a3f5f"
            },
            "error_y": {
             "color": "#2a3f5f"
            },
            "marker": {
             "line": {
              "color": "#E5ECF6",
              "width": 0.5
             },
             "pattern": {
              "fillmode": "overlay",
              "size": 10,
              "solidity": 0.2
             }
            },
            "type": "bar"
           }
          ],
          "barpolar": [
           {
            "marker": {
             "line": {
              "color": "#E5ECF6",
              "width": 0.5
             },
             "pattern": {
              "fillmode": "overlay",
              "size": 10,
              "solidity": 0.2
             }
            },
            "type": "barpolar"
           }
          ],
          "carpet": [
           {
            "aaxis": {
             "endlinecolor": "#2a3f5f",
             "gridcolor": "white",
             "linecolor": "white",
             "minorgridcolor": "white",
             "startlinecolor": "#2a3f5f"
            },
            "baxis": {
             "endlinecolor": "#2a3f5f",
             "gridcolor": "white",
             "linecolor": "white",
             "minorgridcolor": "white",
             "startlinecolor": "#2a3f5f"
            },
            "type": "carpet"
           }
          ],
          "choropleth": [
           {
            "colorbar": {
             "outlinewidth": 0,
             "ticks": ""
            },
            "type": "choropleth"
           }
          ],
          "contour": [
           {
            "colorbar": {
             "outlinewidth": 0,
             "ticks": ""
            },
            "colorscale": [
             [
              0,
              "#0d0887"
             ],
             [
              0.1111111111111111,
              "#46039f"
             ],
             [
              0.2222222222222222,
              "#7201a8"
             ],
             [
              0.3333333333333333,
              "#9c179e"
             ],
             [
              0.4444444444444444,
              "#bd3786"
             ],
             [
              0.5555555555555556,
              "#d8576b"
             ],
             [
              0.6666666666666666,
              "#ed7953"
             ],
             [
              0.7777777777777778,
              "#fb9f3a"
             ],
             [
              0.8888888888888888,
              "#fdca26"
             ],
             [
              1,
              "#f0f921"
             ]
            ],
            "type": "contour"
           }
          ],
          "contourcarpet": [
           {
            "colorbar": {
             "outlinewidth": 0,
             "ticks": ""
            },
            "type": "contourcarpet"
           }
          ],
          "heatmap": [
           {
            "colorbar": {
             "outlinewidth": 0,
             "ticks": ""
            },
            "colorscale": [
             [
              0,
              "#0d0887"
             ],
             [
              0.1111111111111111,
              "#46039f"
             ],
             [
              0.2222222222222222,
              "#7201a8"
             ],
             [
              0.3333333333333333,
              "#9c179e"
             ],
             [
              0.4444444444444444,
              "#bd3786"
             ],
             [
              0.5555555555555556,
              "#d8576b"
             ],
             [
              0.6666666666666666,
              "#ed7953"
             ],
             [
              0.7777777777777778,
              "#fb9f3a"
             ],
             [
              0.8888888888888888,
              "#fdca26"
             ],
             [
              1,
              "#f0f921"
             ]
            ],
            "type": "heatmap"
           }
          ],
          "heatmapgl": [
           {
            "colorbar": {
             "outlinewidth": 0,
             "ticks": ""
            },
            "colorscale": [
             [
              0,
              "#0d0887"
             ],
             [
              0.1111111111111111,
              "#46039f"
             ],
             [
              0.2222222222222222,
              "#7201a8"
             ],
             [
              0.3333333333333333,
              "#9c179e"
             ],
             [
              0.4444444444444444,
              "#bd3786"
             ],
             [
              0.5555555555555556,
              "#d8576b"
             ],
             [
              0.6666666666666666,
              "#ed7953"
             ],
             [
              0.7777777777777778,
              "#fb9f3a"
             ],
             [
              0.8888888888888888,
              "#fdca26"
             ],
             [
              1,
              "#f0f921"
             ]
            ],
            "type": "heatmapgl"
           }
          ],
          "histogram": [
           {
            "marker": {
             "pattern": {
              "fillmode": "overlay",
              "size": 10,
              "solidity": 0.2
             }
            },
            "type": "histogram"
           }
          ],
          "histogram2d": [
           {
            "colorbar": {
             "outlinewidth": 0,
             "ticks": ""
            },
            "colorscale": [
             [
              0,
              "#0d0887"
             ],
             [
              0.1111111111111111,
              "#46039f"
             ],
             [
              0.2222222222222222,
              "#7201a8"
             ],
             [
              0.3333333333333333,
              "#9c179e"
             ],
             [
              0.4444444444444444,
              "#bd3786"
             ],
             [
              0.5555555555555556,
              "#d8576b"
             ],
             [
              0.6666666666666666,
              "#ed7953"
             ],
             [
              0.7777777777777778,
              "#fb9f3a"
             ],
             [
              0.8888888888888888,
              "#fdca26"
             ],
             [
              1,
              "#f0f921"
             ]
            ],
            "type": "histogram2d"
           }
          ],
          "histogram2dcontour": [
           {
            "colorbar": {
             "outlinewidth": 0,
             "ticks": ""
            },
            "colorscale": [
             [
              0,
              "#0d0887"
             ],
             [
              0.1111111111111111,
              "#46039f"
             ],
             [
              0.2222222222222222,
              "#7201a8"
             ],
             [
              0.3333333333333333,
              "#9c179e"
             ],
             [
              0.4444444444444444,
              "#bd3786"
             ],
             [
              0.5555555555555556,
              "#d8576b"
             ],
             [
              0.6666666666666666,
              "#ed7953"
             ],
             [
              0.7777777777777778,
              "#fb9f3a"
             ],
             [
              0.8888888888888888,
              "#fdca26"
             ],
             [
              1,
              "#f0f921"
             ]
            ],
            "type": "histogram2dcontour"
           }
          ],
          "mesh3d": [
           {
            "colorbar": {
             "outlinewidth": 0,
             "ticks": ""
            },
            "type": "mesh3d"
           }
          ],
          "parcoords": [
           {
            "line": {
             "colorbar": {
              "outlinewidth": 0,
              "ticks": ""
             }
            },
            "type": "parcoords"
           }
          ],
          "pie": [
           {
            "automargin": true,
            "type": "pie"
           }
          ],
          "scatter": [
           {
            "fillpattern": {
             "fillmode": "overlay",
             "size": 10,
             "solidity": 0.2
            },
            "type": "scatter"
           }
          ],
          "scatter3d": [
           {
            "line": {
             "colorbar": {
              "outlinewidth": 0,
              "ticks": ""
             }
            },
            "marker": {
             "colorbar": {
              "outlinewidth": 0,
              "ticks": ""
             }
            },
            "type": "scatter3d"
           }
          ],
          "scattercarpet": [
           {
            "marker": {
             "colorbar": {
              "outlinewidth": 0,
              "ticks": ""
             }
            },
            "type": "scattercarpet"
           }
          ],
          "scattergeo": [
           {
            "marker": {
             "colorbar": {
              "outlinewidth": 0,
              "ticks": ""
             }
            },
            "type": "scattergeo"
           }
          ],
          "scattergl": [
           {
            "marker": {
             "colorbar": {
              "outlinewidth": 0,
              "ticks": ""
             }
            },
            "type": "scattergl"
           }
          ],
          "scattermapbox": [
           {
            "marker": {
             "colorbar": {
              "outlinewidth": 0,
              "ticks": ""
             }
            },
            "type": "scattermapbox"
           }
          ],
          "scatterpolar": [
           {
            "marker": {
             "colorbar": {
              "outlinewidth": 0,
              "ticks": ""
             }
            },
            "type": "scatterpolar"
           }
          ],
          "scatterpolargl": [
           {
            "marker": {
             "colorbar": {
              "outlinewidth": 0,
              "ticks": ""
             }
            },
            "type": "scatterpolargl"
           }
          ],
          "scatterternary": [
           {
            "marker": {
             "colorbar": {
              "outlinewidth": 0,
              "ticks": ""
             }
            },
            "type": "scatterternary"
           }
          ],
          "surface": [
           {
            "colorbar": {
             "outlinewidth": 0,
             "ticks": ""
            },
            "colorscale": [
             [
              0,
              "#0d0887"
             ],
             [
              0.1111111111111111,
              "#46039f"
             ],
             [
              0.2222222222222222,
              "#7201a8"
             ],
             [
              0.3333333333333333,
              "#9c179e"
             ],
             [
              0.4444444444444444,
              "#bd3786"
             ],
             [
              0.5555555555555556,
              "#d8576b"
             ],
             [
              0.6666666666666666,
              "#ed7953"
             ],
             [
              0.7777777777777778,
              "#fb9f3a"
             ],
             [
              0.8888888888888888,
              "#fdca26"
             ],
             [
              1,
              "#f0f921"
             ]
            ],
            "type": "surface"
           }
          ],
          "table": [
           {
            "cells": {
             "fill": {
              "color": "#EBF0F8"
             },
             "line": {
              "color": "white"
             }
            },
            "header": {
             "fill": {
              "color": "#C8D4E3"
             },
             "line": {
              "color": "white"
             }
            },
            "type": "table"
           }
          ]
         },
         "layout": {
          "annotationdefaults": {
           "arrowcolor": "#2a3f5f",
           "arrowhead": 0,
           "arrowwidth": 1
          },
          "autotypenumbers": "strict",
          "coloraxis": {
           "colorbar": {
            "outlinewidth": 0,
            "ticks": ""
           }
          },
          "colorscale": {
           "diverging": [
            [
             0,
             "#8e0152"
            ],
            [
             0.1,
             "#c51b7d"
            ],
            [
             0.2,
             "#de77ae"
            ],
            [
             0.3,
             "#f1b6da"
            ],
            [
             0.4,
             "#fde0ef"
            ],
            [
             0.5,
             "#f7f7f7"
            ],
            [
             0.6,
             "#e6f5d0"
            ],
            [
             0.7,
             "#b8e186"
            ],
            [
             0.8,
             "#7fbc41"
            ],
            [
             0.9,
             "#4d9221"
            ],
            [
             1,
             "#276419"
            ]
           ],
           "sequential": [
            [
             0,
             "#0d0887"
            ],
            [
             0.1111111111111111,
             "#46039f"
            ],
            [
             0.2222222222222222,
             "#7201a8"
            ],
            [
             0.3333333333333333,
             "#9c179e"
            ],
            [
             0.4444444444444444,
             "#bd3786"
            ],
            [
             0.5555555555555556,
             "#d8576b"
            ],
            [
             0.6666666666666666,
             "#ed7953"
            ],
            [
             0.7777777777777778,
             "#fb9f3a"
            ],
            [
             0.8888888888888888,
             "#fdca26"
            ],
            [
             1,
             "#f0f921"
            ]
           ],
           "sequentialminus": [
            [
             0,
             "#0d0887"
            ],
            [
             0.1111111111111111,
             "#46039f"
            ],
            [
             0.2222222222222222,
             "#7201a8"
            ],
            [
             0.3333333333333333,
             "#9c179e"
            ],
            [
             0.4444444444444444,
             "#bd3786"
            ],
            [
             0.5555555555555556,
             "#d8576b"
            ],
            [
             0.6666666666666666,
             "#ed7953"
            ],
            [
             0.7777777777777778,
             "#fb9f3a"
            ],
            [
             0.8888888888888888,
             "#fdca26"
            ],
            [
             1,
             "#f0f921"
            ]
           ]
          },
          "colorway": [
           "#636efa",
           "#EF553B",
           "#00cc96",
           "#ab63fa",
           "#FFA15A",
           "#19d3f3",
           "#FF6692",
           "#B6E880",
           "#FF97FF",
           "#FECB52"
          ],
          "font": {
           "color": "#2a3f5f"
          },
          "geo": {
           "bgcolor": "white",
           "lakecolor": "white",
           "landcolor": "#E5ECF6",
           "showlakes": true,
           "showland": true,
           "subunitcolor": "white"
          },
          "hoverlabel": {
           "align": "left"
          },
          "hovermode": "closest",
          "mapbox": {
           "style": "light"
          },
          "paper_bgcolor": "white",
          "plot_bgcolor": "#E5ECF6",
          "polar": {
           "angularaxis": {
            "gridcolor": "white",
            "linecolor": "white",
            "ticks": ""
           },
           "bgcolor": "#E5ECF6",
           "radialaxis": {
            "gridcolor": "white",
            "linecolor": "white",
            "ticks": ""
           }
          },
          "scene": {
           "xaxis": {
            "backgroundcolor": "#E5ECF6",
            "gridcolor": "white",
            "gridwidth": 2,
            "linecolor": "white",
            "showbackground": true,
            "ticks": "",
            "zerolinecolor": "white"
           },
           "yaxis": {
            "backgroundcolor": "#E5ECF6",
            "gridcolor": "white",
            "gridwidth": 2,
            "linecolor": "white",
            "showbackground": true,
            "ticks": "",
            "zerolinecolor": "white"
           },
           "zaxis": {
            "backgroundcolor": "#E5ECF6",
            "gridcolor": "white",
            "gridwidth": 2,
            "linecolor": "white",
            "showbackground": true,
            "ticks": "",
            "zerolinecolor": "white"
           }
          },
          "shapedefaults": {
           "line": {
            "color": "#2a3f5f"
           }
          },
          "ternary": {
           "aaxis": {
            "gridcolor": "white",
            "linecolor": "white",
            "ticks": ""
           },
           "baxis": {
            "gridcolor": "white",
            "linecolor": "white",
            "ticks": ""
           },
           "bgcolor": "#E5ECF6",
           "caxis": {
            "gridcolor": "white",
            "linecolor": "white",
            "ticks": ""
           }
          },
          "title": {
           "x": 0.05
          },
          "xaxis": {
           "automargin": true,
           "gridcolor": "white",
           "linecolor": "white",
           "ticks": "",
           "title": {
            "standoff": 15
           },
           "zerolinecolor": "white",
           "zerolinewidth": 2
          },
          "yaxis": {
           "automargin": true,
           "gridcolor": "white",
           "linecolor": "white",
           "ticks": "",
           "title": {
            "standoff": 15
           },
           "zerolinecolor": "white",
           "zerolinewidth": 2
          }
         }
        },
        "title": {
         "text": "Analysis Sankey Diagram"
        },
        "width": 800
       }
      }
     },
     "metadata": {},
     "output_type": "display_data"
    }
   ],
   "source": [
    "fig = go.Figure(data=[go.Sankey(\n",
    "    arrangement = \"snap\",\n",
    "    valueformat = \".0f\",\n",
    "    valuesuffix = \"TWh\",\n",
    "    # Define nodes\n",
    "    meta = dict(\n",
    "      textposition=\"top center\"\n",
    "    ),\n",
    "    node = dict(\n",
    "      pad = 15,\n",
    "      thickness = 15,\n",
    "      line = dict(color = \"black\", width = 0.5),\n",
    "      label = list(map((lambda lab: \"\"), labels)),\n",
    "      x = xvalues,\n",
    "      y = yvalues,\n",
    "      color = node_colours\n",
    "    ),\n",
    "    # Add links\n",
    "    link = dict(\n",
    "      source =  source,\n",
    "      target =  target,\n",
    "      value =  value,\n",
    "      color = link_colors\n",
    "))])\n",
    "\n",
    "fig.update_layout(title_text=\"Analysis Sankey Diagram\",\n",
    "    font_size=15,\n",
    "    width = 800,\n",
    "    height=600)\n",
    "    "
   ]
  },
  {
   "attachments": {},
   "cell_type": "markdown",
   "metadata": {},
   "source": [
    "### Create expanded flags spreadsheets to allow Excel analysis"
   ]
  },
  {
   "cell_type": "code",
   "execution_count": 21,
   "metadata": {},
   "outputs": [],
   "source": [
    "if save_out:\n",
    "    append_sourceel_origindex(append_vocabulary_id(append_sourceel_names(append_concept_names(expand_flags(df_el_sb)))))\\\n",
    "        [[\"orig_index\", \"examArea\", \"dataElement\", \"concept_name\", \"equivalence\", \"sourceCode\", \"conceptId\", \"vocabulary_id\", \"NOMATCH\", \"VALSMAPPED\", \"INDIRECT\", \"LATERALITY\", \"CONCEPTMISSING\", \"SUBFIELD\"]]\\\n",
    "            .to_excel(outdir + \"/Analysis/FlagsExpanded/elements_sb.xlsx\", index=False)\n",
    "    append_sourceel_origindex(append_vocabulary_id(append_sourceel_names(append_concept_names(expand_flags(df_el_cc)))))\\\n",
    "        [[\"orig_index\", \"examArea\", \"dataElement\", \"concept_name\", \"equivalence\", \"sourceCode\", \"conceptId\", \"vocabulary_id\", \"NOMATCH\", \"VALSMAPPED\", \"INDIRECT\", \"LATERALITY\", \"CONCEPTMISSING\", \"SUBFIELD\"]]\\\n",
    "            .to_excel(outdir + \"/Analysis/FlagsExpanded/elements_cc.xlsx\", index=False)\n",
    "    append_vocabulary_id(append_sourceval_names(append_concept_names(expand_flags(df_val_sb))))\\\n",
    "        [[\"examArea\", \"dataElement\", \"value\", \"concept_name\", \"equivalence\", \"sourceCode\", \"conceptId\", \"vocabulary_id\", \"NOMATCH\", \"LATERALITY\", \"CONCEPTMISSING\", \"SUBFIELD\"]]\\\n",
    "            .to_excel(outdir + \"/Analysis/FlagsExpanded/values_sb.xlsx\", index=False)\n",
    "    append_vocabulary_id(append_sourceval_names(append_concept_names(expand_flags(df_val_cc))))\\\n",
    "        [[\"examArea\", \"dataElement\", \"value\", \"concept_name\", \"equivalence\", \"sourceCode\", \"conceptId\", \"vocabulary_id\", \"NOMATCH\", \"LATERALITY\", \"CONCEPTMISSING\", \"SUBFIELD\"]]\\\n",
    "            .to_excel(outdir + \"/Analysis/FlagsExpanded/values_cc.xlsx\", index=False)\n",
    "    append_sourceel_origindex(append_vocabulary_id(append_sourceel_names(append_concept_names(expand_flags(df_el_consensus)))))\\\n",
    "        [[\"orig_index\", \"examArea\", \"dataElement\", \"concept_name\", \"equivalence\", \"sourceCode\", \"conceptId\", \"vocabulary_id\", \"NOMATCH\", \"VALSMAPPED\", \"INDIRECT\", \"LATERALITY\", \"CONCEPTMISSING\", \"SUBFIELD\"]]\\\n",
    "            .to_excel(outdir + \"/Analysis/FlagsExpanded/elements_consensus.xlsx\", index=False)\n",
    "    append_vocabulary_id(append_sourceval_names(append_concept_names(expand_flags(df_val_consensus))))\\\n",
    "        [[\"examArea\", \"dataElement\", \"value\", \"concept_name\", \"equivalence\", \"sourceCode\", \"conceptId\", \"vocabulary_id\", \"NOMATCH\", \"LATERALITY\", \"CONCEPTMISSING\", \"SUBFIELD\"]]\\\n",
    "            .to_excel(outdir + \"/Analysis/FlagsExpanded/values_consensus.xlsx\", index=False)\n",
    "\n",
    "# Verify above expansion\n",
    "verify_list = [\"elements_consensus\", \"values_consensus\"]\n",
    "for verify_string in verify_list:\n",
    "    df_temp = pd.read_excel((outdir + \"/Analysis/FlagsExpanded/\" + verify_string + \".xlsx\"))\n",
    "\n",
    "    #Assert mutually exclusive \"UNMATCHED\" flags\n",
    "    unmatched_flaglist = list({\"NOMATCH\", \"VALSMAPPED\", \"INDIRECT\", \"SUBFIELD\"} & set(df_temp.columns))\n",
    "    assert (df_temp.loc[df_temp.equivalence == \"UNMATCHED\"][unmatched_flaglist].sum(axis=1) == 1).all()\n",
    "\n",
    "    #Assert presence of \"WIDER\" flags\n",
    "    wider_flaglist = list({\"LATERALITY\", \"CONCEPTMISSING\"} & set(df_temp.columns))\n",
    "    assert (df_temp.loc[df_temp.equivalence == \"WIDER\"][wider_flaglist].sum(axis=1) > 0).all()"
   ]
  },
  {
   "attachments": {},
   "cell_type": "markdown",
   "metadata": {},
   "source": [
    "### Investigate specific subsets"
   ]
  },
  {
   "cell_type": "code",
   "execution_count": 1,
   "metadata": {},
   "outputs": [],
   "source": [
    "df_analyse = df_el_consensus\n",
    "equiv = \"WIDER\"\n",
    "flag = \"CONCEPTMISSING\"\n",
    "\n",
    "df_sliced = append_vocabulary_id(append_sourceel_names(append_concept_names(rows_by_equiv_and_flag(df_analyse, flag, equiv))))\\\n",
    "    [[\"sourceCode\", \"examArea\", \"dataElement\", \"equivalence\", \"conceptId\", \"concept_name\", \"vocabulary_id\"]]\n",
    "\n",
    "[print(index + \":\\t\" + str(value)) for index,value in df_sliced.vocabulary_id.value_counts().iteritems()]\n",
    "print(\"Total:\\t%d\" % df_sliced.shape[0])\n",
    "df_sliced.head(5)"
   ]
  },
  {
   "attachments": {},
   "cell_type": "markdown",
   "metadata": {},
   "source": [
    "### Breakdown by source vocabulary"
   ]
  },
  {
   "cell_type": "code",
   "execution_count": 23,
   "metadata": {},
   "outputs": [
    {
     "data": {
      "text/plain": [
       "SNOMED    36\n",
       "LOINC      8\n",
       "Name: vocabulary_id, dtype: int64"
      ]
     },
     "execution_count": 23,
     "metadata": {},
     "output_type": "execute_result"
    }
   ],
   "source": [
    "append_vocabulary_id(append_sourceel_names(append_concept_names(rows_by_equiv_and_flag(df_analyse, flag, equiv))))\\\n",
    "    .vocabulary_id.value_counts()"
   ]
  },
  {
   "attachments": {},
   "cell_type": "markdown",
   "metadata": {},
   "source": [
    "## Comparing screens (run as needed)"
   ]
  },
  {
   "attachments": {},
   "cell_type": "markdown",
   "metadata": {},
   "source": [
    "Create output directory, if doesn't already exist"
   ]
  },
  {
   "cell_type": "code",
   "execution_count": 3,
   "metadata": {},
   "outputs": [],
   "source": [
    "save_out = True\n",
    "outdir = create_outdir()"
   ]
  },
  {
   "attachments": {},
   "cell_type": "markdown",
   "metadata": {},
   "source": [
    "### Import mappings"
   ]
  },
  {
   "attachments": {},
   "cell_type": "markdown",
   "metadata": {},
   "source": [
    "Mapping document paths"
   ]
  },
  {
   "cell_type": "code",
   "execution_count": 4,
   "metadata": {},
   "outputs": [],
   "source": [
    "df_el_wh_path = \"Resources/Mappings/WH_ElementMapping.xlsx\"\n",
    "df_el_sb_path = \"Resources/Mappings/SB_ElementMapping.xlsx\"\n",
    "df_el_cc_path = \"Resources/Mappings/CC_ElementMapping.xlsx\"\n",
    "df_el_consensus_path = \"Resources/Mappings/CONS_ElementMapping.xlsx\"\n",
    "df_val_wh_path = \"Resources/Mappings/WH_ValueMapping.xlsx\"\n",
    "df_val_sb_path = \"Resources/Mappings/SB_ValueMapping.xlsx\"\n",
    "df_val_cc_path = \"Resources/Mappings/CC_ValueMapping.xlsx\"\n",
    "df_val_consensus_path = \"Resources/Mappings/CONS_ValueMapping.xlsx\""
   ]
  },
  {
   "attachments": {},
   "cell_type": "markdown",
   "metadata": {},
   "source": [
    "Import mappings as dataframes"
   ]
  },
  {
   "cell_type": "code",
   "execution_count": 5,
   "metadata": {},
   "outputs": [],
   "source": [
    "# Element mappings\n",
    "df_el_wh = pd.read_excel(df_el_wh_path)[[\"sourceCode\", \"equivalence\", \"conceptId\", 'comment']]\\\n",
    "        .astype({\"sourceCode\":\"string\", \"equivalence\":\"string\", \"conceptId\":\"Int64\", \"comment\":\"string\"})\n",
    "df_el_sb = pd.read_excel(df_el_sb_path)[[\"sourceCode\", \"equivalence\", \"conceptId\", 'comment']]\\\n",
    "        .astype({\"sourceCode\":\"string\", \"equivalence\":\"string\", \"conceptId\":\"Int64\", \"comment\":\"string\"})\n",
    "df_el_cc = pd.read_excel(df_el_cc_path)[[\"sourceCode\", \"equivalence\", \"conceptId\", 'comment']]\\\n",
    "        .astype({\"sourceCode\":\"string\", \"equivalence\":\"string\", \"conceptId\":\"Int64\", \"comment\":\"string\"})\n",
    "df_el_consensus = pd.read_excel(df_el_consensus_path)[[\"sourceCode\", \"equivalence\", \"conceptId\", \"comment\"]]\\\n",
    "        .astype({\"sourceCode\":\"string\", \"equivalence\":\"string\", \"conceptId\":\"Int64\"})\n",
    "\n",
    "# Value mappings\n",
    "df_val_wh = pd.read_excel(df_val_wh_path)[[\"sourceCode\", \"equivalence\", \"conceptId\", 'comment']]\\\n",
    "        .astype({\"sourceCode\":\"Int64\", \"equivalence\":\"string\", \"conceptId\":\"Int64\", \"comment\":\"string\"})\n",
    "df_val_sb = pd.read_excel(df_val_sb_path)[[\"sourceCode\", \"equivalence\", \"conceptId\", 'comment']]\\\n",
    "        .astype({\"sourceCode\":\"Int64\", \"equivalence\":\"string\", \"conceptId\":\"Int64\", \"comment\":\"string\"})\n",
    "df_val_cc = pd.read_excel(df_val_cc_path)[[\"sourceCode\", \"equivalence\", \"conceptId\", 'comment']]\\\n",
    "        .astype({\"sourceCode\":\"Int64\", \"equivalence\":\"string\", \"conceptId\":\"Int64\", \"comment\":\"string\"})\n",
    "df_val_consensus = pd.read_excel(df_val_consensus_path)[[\"sourceCode\", \"equivalence\", \"conceptId\", \"comment\"]]\\\n",
    "        .astype({\"sourceCode\":\"Int64\", \"equivalence\":\"string\", \"conceptId\":\"Int64\"})\n",
    "\n",
    "assert df_el_consensus.shape == df_el_sb.shape == df_el_cc.shape == df_el_wh.shape\n",
    "assert df_val_consensus.shape == df_val_sb.shape == df_val_cc.shape == df_val_wh.shape\n",
    "\n",
    "apply_filter = True\n",
    "\n",
    "if apply_filter:\n",
    "    (df_el_wh, df_el_sb, df_el_cc, df_el_consensus) = custom_filter((df_el_wh, df_el_sb, df_el_cc, df_el_consensus), 'element')\n",
    "    (df_val_wh, df_val_sb, df_val_cc, df_val_consensus) = custom_filter((df_val_wh, df_val_sb, df_val_cc, df_val_consensus), 'value')"
   ]
  },
  {
   "attachments": {},
   "cell_type": "markdown",
   "metadata": {},
   "source": [
    "### Compare mapping sheet sizes (SB vs CC)"
   ]
  },
  {
   "cell_type": "code",
   "execution_count": 6,
   "metadata": {},
   "outputs": [
    {
     "name": "stdout",
     "output_type": "stream",
     "text": [
      "--Number of rows, Sally--\n",
      "\tElement Map: 210\n",
      "\tValue map: 488\n"
     ]
    }
   ],
   "source": [
    "n_rows_sb = (df_el_sb.shape[0], df_val_sb.shape[0])\n",
    "print(\"--Number of rows, Sally--\\n\\tElement Map: %d\\n\\tValue map: %d\" % (n_rows_sb[0], n_rows_sb[1]))"
   ]
  },
  {
   "cell_type": "code",
   "execution_count": 7,
   "metadata": {},
   "outputs": [
    {
     "name": "stdout",
     "output_type": "stream",
     "text": [
      "--Number of rows, Sally--\n",
      "\tElement Map: 210\n",
      "\tValue map: 488\n"
     ]
    }
   ],
   "source": [
    "n_rows_cc = (df_el_cc.shape[0], df_val_cc.shape[0])\n",
    "print(\"--Number of rows, Sally--\\n\\tElement Map: %d\\n\\tValue map: %d\" % (n_rows_cc[0], n_rows_cc[1]))"
   ]
  },
  {
   "cell_type": "code",
   "execution_count": 8,
   "metadata": {},
   "outputs": [
    {
     "name": "stdout",
     "output_type": "stream",
     "text": [
      "--Number of rows is equivalent--\n",
      "\tElement Map: True\n",
      "\tValue map: True\n"
     ]
    }
   ],
   "source": [
    "print(\"--Number of rows is equivalent--\\n\\tElement Map: %s\\n\\tValue map: %s\" % \\\n",
    "    (n_rows_cc[0] == n_rows_sb[0], n_rows_sb[1] == n_rows_cc[1]))"
   ]
  },
  {
   "cell_type": "markdown",
   "metadata": {},
   "source": [
    "### Row differences"
   ]
  },
  {
   "cell_type": "markdown",
   "metadata": {},
   "source": [
    "#### Counts"
   ]
  },
  {
   "cell_type": "markdown",
   "metadata": {},
   "source": [
    "Assert that all source code lists are the same (necessary for further valid processing)"
   ]
  },
  {
   "cell_type": "code",
   "execution_count": 6,
   "metadata": {},
   "outputs": [
    {
     "data": {
      "text/html": [
       "<div>\n",
       "<style scoped>\n",
       "    .dataframe tbody tr th:only-of-type {\n",
       "        vertical-align: middle;\n",
       "    }\n",
       "\n",
       "    .dataframe tbody tr th {\n",
       "        vertical-align: top;\n",
       "    }\n",
       "\n",
       "    .dataframe thead th {\n",
       "        text-align: right;\n",
       "    }\n",
       "</style>\n",
       "<table border=\"1\" class=\"dataframe\">\n",
       "  <thead>\n",
       "    <tr style=\"text-align: right;\">\n",
       "      <th></th>\n",
       "      <th>Elements</th>\n",
       "      <th>Values</th>\n",
       "      <th>Both</th>\n",
       "      <th>% Element Agreement</th>\n",
       "      <th>% Value Agreement</th>\n",
       "      <th>% Overall Agreement</th>\n",
       "    </tr>\n",
       "  </thead>\n",
       "  <tbody>\n",
       "    <tr>\n",
       "      <th>Matched</th>\n",
       "      <td>193</td>\n",
       "      <td>428</td>\n",
       "      <td>621</td>\n",
       "      <td>0.919048</td>\n",
       "      <td>0.877049</td>\n",
       "      <td>0.889697</td>\n",
       "    </tr>\n",
       "    <tr>\n",
       "      <th>Unmatched</th>\n",
       "      <td>17</td>\n",
       "      <td>60</td>\n",
       "      <td>77</td>\n",
       "      <td>0.080952</td>\n",
       "      <td>0.122951</td>\n",
       "      <td>0.110303</td>\n",
       "    </tr>\n",
       "  </tbody>\n",
       "</table>\n",
       "</div>"
      ],
      "text/plain": [
       "           Elements  Values  Both  % Element Agreement  % Value Agreement  \\\n",
       "Matched         193     428   621             0.919048           0.877049   \n",
       "Unmatched        17      60    77             0.080952           0.122951   \n",
       "\n",
       "           % Overall Agreement  \n",
       "Matched               0.889697  \n",
       "Unmatched             0.110303  "
      ]
     },
     "execution_count": 6,
     "metadata": {},
     "output_type": "execute_result"
    }
   ],
   "source": [
    "verify_sourceCode_aligned(df_el_sb, df_el_cc)     # Should do this every time\n",
    "verify_sourceCode_aligned(df_val_sb, df_val_cc)     # Should do this every time\n",
    "\n",
    "sr_eldiff = (df_el_sb.drop(columns=\"comment\") == df_el_cc.drop(columns=\"comment\")).all(axis=1).value_counts()\n",
    "sr_valdiff = (df_val_sb.drop(columns=\"comment\") == df_val_cc.drop(columns=\"comment\")).all(axis=1).value_counts()\n",
    "mat_values = {\"Elements\":sr_eldiff, \"Values\":sr_valdiff}\n",
    "\n",
    "df_compare = pd.DataFrame(mat_values).rename({True:\"Matched\", False:\"Unmatched\"})\n",
    "df_compare[\"Both\"] = df_compare.sum(axis=1)\n",
    "df_compare[\"% Element Agreement\"] = (df_compare.Elements / df_compare.Elements.sum())\n",
    "df_compare[\"% Value Agreement\"] = (df_compare.Values / df_compare.Values.sum())\n",
    "df_compare[\"% Overall Agreement\"] = (df_compare.sum(axis=1) / df_compare.sum(axis=1).sum())\n",
    "\n",
    "df_compare"
   ]
  },
  {
   "cell_type": "code",
   "execution_count": 7,
   "metadata": {},
   "outputs": [],
   "source": [
    "df_compare.to_excel(outdir + \"/MapCompare/percent_agreement.xlsx\", index=True)"
   ]
  },
  {
   "cell_type": "markdown",
   "metadata": {},
   "source": [
    "#### Calculating Cohen's kappa"
   ]
  },
  {
   "cell_type": "markdown",
   "metadata": {},
   "source": [
    "1) Equivalence label mapping"
   ]
  },
  {
   "cell_type": "code",
   "execution_count": 8,
   "metadata": {},
   "outputs": [],
   "source": [
    "dict_ismapped = {\"UNMATCHED\":1, \"NARROWER\":2, \"WIDER\":3, \"EQUAL\":4}"
   ]
  },
  {
   "cell_type": "code",
   "execution_count": 9,
   "metadata": {},
   "outputs": [
    {
     "name": "stdout",
     "output_type": "stream",
     "text": [
      "Element kappa: 0.892\n",
      "Value kappa: 0.851\n",
      "Total kappa: 0.879\n"
     ]
    }
   ],
   "source": [
    "sr_el_sb_ismapped = df_el_sb.equivalence.map(dict_ismapped)\n",
    "sr_el_cc_ismapped = df_el_cc.equivalence.map(dict_ismapped)\n",
    "sr_val_sb_ismapped = df_val_sb.equivalence.map(dict_ismapped)\n",
    "sr_val_cc_ismapped = df_val_cc.equivalence.map(dict_ismapped)\n",
    "\n",
    "el_kap = sklearn.metrics.cohen_kappa_score(sr_el_sb_ismapped, sr_el_cc_ismapped)\n",
    "val_kap = sklearn.metrics.cohen_kappa_score(sr_val_sb_ismapped, sr_val_cc_ismapped)\n",
    "total_kap = sklearn.metrics.cohen_kappa_score(pd.concat([sr_el_sb_ismapped, sr_val_sb_ismapped]),\\\n",
    "        pd.concat([sr_el_cc_ismapped, sr_val_cc_ismapped]))\n",
    "\n",
    "print(\"Element kappa: %.3f\" % el_kap)\n",
    "print(\"Value kappa: %.3f\" % val_kap)\n",
    "print(\"Total kappa: %.3f\" % total_kap)"
   ]
  },
  {
   "cell_type": "code",
   "execution_count": 10,
   "metadata": {},
   "outputs": [],
   "source": [
    "df_kappa = pd.DataFrame([[\"Elements\", el_kap], [\"Values\", val_kap], [\"Overall\", total_kap]], columns=[\"Subset\", \"Equiv Kappa\"])\n",
    "df_kappa.to_excel(outdir + \"/MapCompare/equivalence_kappa.xlsx\", index=False)"
   ]
  },
  {
   "cell_type": "markdown",
   "metadata": {},
   "source": [
    "2) Whether it's mapped as mappable or unmappable"
   ]
  },
  {
   "cell_type": "code",
   "execution_count": 11,
   "metadata": {},
   "outputs": [],
   "source": [
    "dict_ismapped = {\"UNMATCHED\":False, \"NARROWER\":False, \"WIDER\":True, \"EQUAL\":True}"
   ]
  },
  {
   "cell_type": "code",
   "execution_count": 12,
   "metadata": {},
   "outputs": [
    {
     "name": "stdout",
     "output_type": "stream",
     "text": [
      "Element kappa: 0.940\n",
      "Value kappa: 0.788\n",
      "Total kappa: 0.903\n"
     ]
    }
   ],
   "source": [
    "sr_el_sb_ismapped = df_el_sb.equivalence.map(dict_ismapped)\n",
    "sr_el_cc_ismapped = df_el_cc.equivalence.map(dict_ismapped)\n",
    "sr_val_sb_ismapped = df_val_sb.equivalence.map(dict_ismapped)\n",
    "sr_val_cc_ismapped = df_val_cc.equivalence.map(dict_ismapped)\n",
    "\n",
    "el_kap = sklearn.metrics.cohen_kappa_score(sr_el_sb_ismapped, sr_el_cc_ismapped)\n",
    "val_kap = sklearn.metrics.cohen_kappa_score(sr_val_sb_ismapped, sr_val_cc_ismapped)\n",
    "total_kap = sklearn.metrics.cohen_kappa_score(pd.concat([sr_el_sb_ismapped, sr_val_sb_ismapped]),\\\n",
    "        pd.concat([sr_el_cc_ismapped, sr_val_cc_ismapped]))\n",
    "\n",
    "print(\"Element kappa: %.3f\" % el_kap)\n",
    "print(\"Value kappa: %.3f\" % val_kap)\n",
    "print(\"Total kappa: %.3f\" % total_kap)"
   ]
  },
  {
   "cell_type": "code",
   "execution_count": 13,
   "metadata": {},
   "outputs": [],
   "source": [
    "df_kappa = pd.DataFrame([[\"Elements\", el_kap], [\"Values\", val_kap], [\"Overall\", total_kap]], columns=[\"Subset\", \"Mapped/Unmapped Kappa\"])\n",
    "df_kappa.to_excel(outdir + \"/MapCompare/mappable_kappa.xlsx\", index=False)"
   ]
  },
  {
   "cell_type": "markdown",
   "metadata": {},
   "source": [
    "#### Investigating discrepancies"
   ]
  },
  {
   "cell_type": "code",
   "execution_count": 14,
   "metadata": {},
   "outputs": [],
   "source": [
    "verify_sourceCode_aligned(df_el_sb, df_el_cc)     # Should do this every time\n",
    "verify_sourceCode_aligned(df_val_sb, df_val_cc)     # Should do this every time\n",
    "index_eldiff = ~(df_el_sb.drop(columns=\"comment\") == df_el_cc.drop(columns=\"comment\")).all(axis=1)\n",
    "index_valdiff = ~(df_val_sb.drop(columns=\"comment\") == df_val_cc.drop(columns=\"comment\")).all(axis=1)"
   ]
  },
  {
   "cell_type": "markdown",
   "metadata": {},
   "source": [
    "Element comparisons"
   ]
  },
  {
   "cell_type": "code",
   "execution_count": 11,
   "metadata": {},
   "outputs": [],
   "source": [
    "exportfile = True\n",
    "verify_sourceCode_aligned(df_el_sb, df_el_cc)     # Should do this every time\n",
    "verify_sourceCode_aligned(df_val_sb, df_val_cc)     # Should do this every time\n",
    "\n",
    "temp_index_eldiff = ~(df_el_wh.drop(columns=\"comment\") == df_el_cc.drop(columns=\"comment\")).all(axis=1)\n",
    "\n",
    "df_elcompare = append_concept_names(df_el_wh)\\\n",
    "    .join(append_concept_names(df_el_cc).drop(columns=\"sourceCode\"), lsuffix=\"_sb\", rsuffix=\"_cc\")\\\n",
    "        .merge(df_eldef, left_on=\"sourceCode\", right_on=\"CUI\")\\\n",
    "            [[\"examArea\", \"dataElement\", \"sourceCode\", \"equivalence_sb\", \"conceptId_sb\", \"concept_name_sb\", \"equivalence_cc\", \"conceptId_cc\", \"concept_name_cc\"]]\\\n",
    "                .loc[temp_index_eldiff]\n",
    "\n",
    "if exportfile:\n",
    "    df_elcompare.to_excel(outdir + \"/MapCompare/CC_CONS_ElementDiscrepancies.xlsx\", index=False)\n",
    "    \n",
    "df_elcompare.head(3)"
   ]
  },
  {
   "cell_type": "code",
   "execution_count": 12,
   "metadata": {},
   "outputs": [],
   "source": [
    "exportfile = True\n",
    "verify_sourceCode_aligned(df_el_sb, df_el_cc)     # Should do this every time\n",
    "verify_sourceCode_aligned(df_val_sb, df_val_cc)     # Should do this every time\n",
    "\n",
    "df_elcompare = append_concept_names(df_el_sb)\\\n",
    "    .join(append_concept_names(df_el_cc).drop(columns=\"sourceCode\"), lsuffix=\"_sb\", rsuffix=\"_cc\")\\\n",
    "        .merge(df_eldef, left_on=\"sourceCode\", right_on=\"CUI\")\\\n",
    "            [[\"examArea\", \"dataElement\", \"sourceCode\", \"equivalence_sb\", \"conceptId_sb\", \"concept_name_sb\", \"equivalence_cc\", \"conceptId_cc\", \"concept_name_cc\"]]\\\n",
    "                .loc[index_eldiff]\n",
    "\n",
    "if exportfile:\n",
    "    df_elcompare.to_excel(outdir + \"/MapCompare/ElementDiscrepancies.xlsx\", index=False)\n",
    "    \n",
    "df_elcompare.head(3)"
   ]
  },
  {
   "cell_type": "markdown",
   "metadata": {},
   "source": [
    "Value comparisons"
   ]
  },
  {
   "cell_type": "code",
   "execution_count": 13,
   "metadata": {},
   "outputs": [],
   "source": [
    "exportfile = True\n",
    "verify_sourceCode_aligned(df_el_sb, df_el_cc)     # Should do this every time\n",
    "verify_sourceCode_aligned(df_val_sb, df_val_cc)     # Should do this every time\n",
    "\n",
    "df_valcompare = append_concept_names(df_val_sb)\\\n",
    "    .join(append_concept_names(df_val_cc).drop(columns=\"sourceCode\"), lsuffix=\"_sb\", rsuffix=\"_cc\")\\\n",
    "        .merge(df_valdef, left_on=\"sourceCode\", right_on=\"ID\")\\\n",
    "            .merge(df_eldef, left_on=\"CUI\", right_on=\"CUI\")\\\n",
    "                [[\"examArea\", \"dataElement\", \"value\", \"sourceCode\", \"equivalence_sb\", \"conceptId_sb\", \"concept_name_sb\", \"equivalence_cc\", \"conceptId_cc\", \"concept_name_cc\"]]\\\n",
    "                    .loc[index_valdiff]\n",
    "\n",
    "if exportfile:\n",
    "    df_valcompare.to_excel(outdir + \"/MapCompare/ValueDiscrepancies.xlsx\", index=False)\n",
    "\n",
    "df_valcompare.head(3)"
   ]
  },
  {
   "cell_type": "markdown",
   "metadata": {},
   "source": [
    "#### Flowchart"
   ]
  },
  {
   "cell_type": "markdown",
   "metadata": {},
   "source": [
    "Create the DataFrame to hold our output"
   ]
  },
  {
   "cell_type": "code",
   "execution_count": 18,
   "metadata": {},
   "outputs": [],
   "source": [
    "lab_list = [\"wh\", \"sb\", \"cc\", \"cons\"]\n",
    "lab_dict = {\"wh\":[df_el_wh, df_val_wh], \"sb\":[df_el_sb, df_val_sb], \"cc\":[df_el_cc, df_val_cc], \"cons\":[df_el_consensus, df_val_consensus]}\n",
    "iterables = [lab_list, [\"conceptId\", \"equivalence\", \"both\", \"sum\"]]\n",
    "\n",
    "index = pd.MultiIndex.from_product(iterables, names=[\"grader\", \"diff_source\"])\n",
    "m_columns = pd.MultiIndex.from_product([lab_list, [\"#\", '%']], names=[\"grader\", \"diff_source\"])\n",
    "df_rowchange = pd.DataFrame(columns=m_columns, index=index).astype(\"Int64\")\\\n",
    "    .astype({(\"wh\",\"%\"):\"float\", (\"sb\",\"%\"):\"float\", (\"cc\",\"%\"):\"float\", (\"cons\",\"%\"):\"float\"})"
   ]
  },
  {
   "cell_type": "markdown",
   "metadata": {},
   "source": [
    "Loop through to append the values into this DataFrame"
   ]
  },
  {
   "cell_type": "code",
   "execution_count": 19,
   "metadata": {},
   "outputs": [],
   "source": [
    "n_els = df_el_consensus.shape[0] + df_val_consensus.shape[0]\n",
    "\n",
    "for col_lab in lab_list:\n",
    "    for row_lab in lab_list:\n",
    "        # Load the dataframes to compare\n",
    "        df_col_el = lab_dict[col_lab][0].drop(columns=\"comment\").fillna(0)\n",
    "        df_col_val = lab_dict[col_lab][1].drop(columns=\"comment\").fillna(0)\n",
    "        df_row_el = lab_dict[row_lab][0].drop(columns=\"comment\").fillna(0)\n",
    "        df_row_val = lab_dict[row_lab][1].drop(columns=\"comment\").fillna(0)\n",
    "\n",
    "        verify_sourceCode_aligned(df_col_el, df_row_el)\n",
    "        verify_sourceCode_aligned(df_col_val, df_row_val)\n",
    "        \n",
    "        conc_diff = ((df_col_el.equivalence == df_row_el.equivalence) & ~(df_col_el.conceptId == df_row_el.conceptId)).sum()\\\n",
    "            + ((df_col_val.equivalence == df_row_val.equivalence) & ~(df_col_val.conceptId == df_row_val.conceptId)).sum()\n",
    "        eq_diff = (~(df_col_el.equivalence == df_row_el.equivalence) & (df_col_el.conceptId == df_row_el.conceptId)).sum()\\\n",
    "            + (~(df_col_val.equivalence == df_row_val.equivalence) & (df_col_val.conceptId == df_row_val.conceptId)).sum()\n",
    "        both_diff = (~(df_col_el.equivalence == df_row_el.equivalence) & ~(df_col_el.conceptId == df_row_el.conceptId)).sum()\\\n",
    "            + (~(df_col_val.equivalence == df_row_val.equivalence) & ~(df_col_val.conceptId == df_row_val.conceptId)).sum()\n",
    "        sum_diff = (~((df_col_el == df_row_el).all(axis=1))).sum()\\\n",
    "            + (~((df_col_val == df_row_val).all(axis=1))).sum()\n",
    "\n",
    "        assert sum_diff == eq_diff + conc_diff + both_diff\n",
    "        assert df_col_el.shape[0] + df_col_val.shape[0] == n_els\n",
    "        assert df_row_el.shape[0] + df_row_val.shape[0] == n_els\n",
    "\n",
    "        df_rowchange.loc[(row_lab, \"conceptId\"), (col_lab, \"#\")] = conc_diff\n",
    "        df_rowchange.loc[(row_lab, \"equivalence\"), (col_lab, \"#\")] = eq_diff\n",
    "        df_rowchange.loc[(row_lab, \"both\"), (col_lab, \"#\")] = both_diff\n",
    "        df_rowchange.loc[(row_lab, \"sum\"), (col_lab, \"#\")] = sum_diff\n",
    "        df_rowchange.loc[(row_lab, \"conceptId\"), (col_lab, \"%\")] = conc_diff / n_els\n",
    "        df_rowchange.loc[(row_lab, \"equivalence\"), (col_lab, \"%\")] = eq_diff / n_els\n",
    "        df_rowchange.loc[(row_lab, \"both\"), (col_lab, \"%\")] = both_diff / n_els\n",
    "        df_rowchange.loc[(row_lab, \"sum\"), (col_lab, \"%\")] = sum_diff / n_els"
   ]
  },
  {
   "cell_type": "code",
   "execution_count": 20,
   "metadata": {},
   "outputs": [
    {
     "data": {
      "text/html": [
       "<div>\n",
       "<style scoped>\n",
       "    .dataframe tbody tr th:only-of-type {\n",
       "        vertical-align: middle;\n",
       "    }\n",
       "\n",
       "    .dataframe tbody tr th {\n",
       "        vertical-align: top;\n",
       "    }\n",
       "\n",
       "    .dataframe thead tr th {\n",
       "        text-align: left;\n",
       "    }\n",
       "\n",
       "    .dataframe thead tr:last-of-type th {\n",
       "        text-align: right;\n",
       "    }\n",
       "</style>\n",
       "<table border=\"1\" class=\"dataframe\">\n",
       "  <thead>\n",
       "    <tr>\n",
       "      <th></th>\n",
       "      <th>grader</th>\n",
       "      <th colspan=\"2\" halign=\"left\">wh</th>\n",
       "      <th colspan=\"2\" halign=\"left\">sb</th>\n",
       "      <th colspan=\"2\" halign=\"left\">cc</th>\n",
       "      <th colspan=\"2\" halign=\"left\">cons</th>\n",
       "    </tr>\n",
       "    <tr>\n",
       "      <th></th>\n",
       "      <th>diff_source</th>\n",
       "      <th>#</th>\n",
       "      <th>%</th>\n",
       "      <th>#</th>\n",
       "      <th>%</th>\n",
       "      <th>#</th>\n",
       "      <th>%</th>\n",
       "      <th>#</th>\n",
       "      <th>%</th>\n",
       "    </tr>\n",
       "    <tr>\n",
       "      <th>grader</th>\n",
       "      <th>diff_source</th>\n",
       "      <th></th>\n",
       "      <th></th>\n",
       "      <th></th>\n",
       "      <th></th>\n",
       "      <th></th>\n",
       "      <th></th>\n",
       "      <th></th>\n",
       "      <th></th>\n",
       "    </tr>\n",
       "  </thead>\n",
       "  <tbody>\n",
       "    <tr>\n",
       "      <th rowspan=\"4\" valign=\"top\">wh</th>\n",
       "      <th>conceptId</th>\n",
       "      <td>0</td>\n",
       "      <td>0.000000</td>\n",
       "      <td>10</td>\n",
       "      <td>0.014327</td>\n",
       "      <td>24</td>\n",
       "      <td>0.034384</td>\n",
       "      <td>24</td>\n",
       "      <td>0.034384</td>\n",
       "    </tr>\n",
       "    <tr>\n",
       "      <th>equivalence</th>\n",
       "      <td>0</td>\n",
       "      <td>0.000000</td>\n",
       "      <td>26</td>\n",
       "      <td>0.037249</td>\n",
       "      <td>26</td>\n",
       "      <td>0.037249</td>\n",
       "      <td>30</td>\n",
       "      <td>0.042980</td>\n",
       "    </tr>\n",
       "    <tr>\n",
       "      <th>both</th>\n",
       "      <td>0</td>\n",
       "      <td>0.000000</td>\n",
       "      <td>34</td>\n",
       "      <td>0.048711</td>\n",
       "      <td>50</td>\n",
       "      <td>0.071633</td>\n",
       "      <td>53</td>\n",
       "      <td>0.075931</td>\n",
       "    </tr>\n",
       "    <tr>\n",
       "      <th>sum</th>\n",
       "      <td>0</td>\n",
       "      <td>0.000000</td>\n",
       "      <td>70</td>\n",
       "      <td>0.100287</td>\n",
       "      <td>100</td>\n",
       "      <td>0.143266</td>\n",
       "      <td>107</td>\n",
       "      <td>0.153295</td>\n",
       "    </tr>\n",
       "    <tr>\n",
       "      <th rowspan=\"4\" valign=\"top\">sb</th>\n",
       "      <th>conceptId</th>\n",
       "      <td>10</td>\n",
       "      <td>0.014327</td>\n",
       "      <td>0</td>\n",
       "      <td>0.000000</td>\n",
       "      <td>22</td>\n",
       "      <td>0.031519</td>\n",
       "      <td>19</td>\n",
       "      <td>0.027221</td>\n",
       "    </tr>\n",
       "    <tr>\n",
       "      <th>equivalence</th>\n",
       "      <td>26</td>\n",
       "      <td>0.037249</td>\n",
       "      <td>0</td>\n",
       "      <td>0.000000</td>\n",
       "      <td>26</td>\n",
       "      <td>0.037249</td>\n",
       "      <td>15</td>\n",
       "      <td>0.021490</td>\n",
       "    </tr>\n",
       "    <tr>\n",
       "      <th>both</th>\n",
       "      <td>34</td>\n",
       "      <td>0.048711</td>\n",
       "      <td>0</td>\n",
       "      <td>0.000000</td>\n",
       "      <td>29</td>\n",
       "      <td>0.041547</td>\n",
       "      <td>22</td>\n",
       "      <td>0.031519</td>\n",
       "    </tr>\n",
       "    <tr>\n",
       "      <th>sum</th>\n",
       "      <td>70</td>\n",
       "      <td>0.100287</td>\n",
       "      <td>0</td>\n",
       "      <td>0.000000</td>\n",
       "      <td>77</td>\n",
       "      <td>0.110315</td>\n",
       "      <td>56</td>\n",
       "      <td>0.080229</td>\n",
       "    </tr>\n",
       "    <tr>\n",
       "      <th rowspan=\"4\" valign=\"top\">cc</th>\n",
       "      <th>conceptId</th>\n",
       "      <td>24</td>\n",
       "      <td>0.034384</td>\n",
       "      <td>22</td>\n",
       "      <td>0.031519</td>\n",
       "      <td>0</td>\n",
       "      <td>0.000000</td>\n",
       "      <td>11</td>\n",
       "      <td>0.015759</td>\n",
       "    </tr>\n",
       "    <tr>\n",
       "      <th>equivalence</th>\n",
       "      <td>26</td>\n",
       "      <td>0.037249</td>\n",
       "      <td>26</td>\n",
       "      <td>0.037249</td>\n",
       "      <td>0</td>\n",
       "      <td>0.000000</td>\n",
       "      <td>17</td>\n",
       "      <td>0.024355</td>\n",
       "    </tr>\n",
       "    <tr>\n",
       "      <th>both</th>\n",
       "      <td>50</td>\n",
       "      <td>0.071633</td>\n",
       "      <td>29</td>\n",
       "      <td>0.041547</td>\n",
       "      <td>0</td>\n",
       "      <td>0.000000</td>\n",
       "      <td>6</td>\n",
       "      <td>0.008596</td>\n",
       "    </tr>\n",
       "    <tr>\n",
       "      <th>sum</th>\n",
       "      <td>100</td>\n",
       "      <td>0.143266</td>\n",
       "      <td>77</td>\n",
       "      <td>0.110315</td>\n",
       "      <td>0</td>\n",
       "      <td>0.000000</td>\n",
       "      <td>34</td>\n",
       "      <td>0.048711</td>\n",
       "    </tr>\n",
       "    <tr>\n",
       "      <th rowspan=\"4\" valign=\"top\">cons</th>\n",
       "      <th>conceptId</th>\n",
       "      <td>24</td>\n",
       "      <td>0.034384</td>\n",
       "      <td>19</td>\n",
       "      <td>0.027221</td>\n",
       "      <td>11</td>\n",
       "      <td>0.015759</td>\n",
       "      <td>0</td>\n",
       "      <td>0.000000</td>\n",
       "    </tr>\n",
       "    <tr>\n",
       "      <th>equivalence</th>\n",
       "      <td>30</td>\n",
       "      <td>0.042980</td>\n",
       "      <td>15</td>\n",
       "      <td>0.021490</td>\n",
       "      <td>17</td>\n",
       "      <td>0.024355</td>\n",
       "      <td>0</td>\n",
       "      <td>0.000000</td>\n",
       "    </tr>\n",
       "    <tr>\n",
       "      <th>both</th>\n",
       "      <td>53</td>\n",
       "      <td>0.075931</td>\n",
       "      <td>22</td>\n",
       "      <td>0.031519</td>\n",
       "      <td>6</td>\n",
       "      <td>0.008596</td>\n",
       "      <td>0</td>\n",
       "      <td>0.000000</td>\n",
       "    </tr>\n",
       "    <tr>\n",
       "      <th>sum</th>\n",
       "      <td>107</td>\n",
       "      <td>0.153295</td>\n",
       "      <td>56</td>\n",
       "      <td>0.080229</td>\n",
       "      <td>34</td>\n",
       "      <td>0.048711</td>\n",
       "      <td>0</td>\n",
       "      <td>0.000000</td>\n",
       "    </tr>\n",
       "  </tbody>\n",
       "</table>\n",
       "</div>"
      ],
      "text/plain": [
       "grader               wh            sb             cc           cons          \n",
       "diff_source           #         %   #         %    #         %    #         %\n",
       "grader diff_source                                                           \n",
       "wh     conceptId      0  0.000000  10  0.014327   24  0.034384   24  0.034384\n",
       "       equivalence    0  0.000000  26  0.037249   26  0.037249   30  0.042980\n",
       "       both           0  0.000000  34  0.048711   50  0.071633   53  0.075931\n",
       "       sum            0  0.000000  70  0.100287  100  0.143266  107  0.153295\n",
       "sb     conceptId     10  0.014327   0  0.000000   22  0.031519   19  0.027221\n",
       "       equivalence   26  0.037249   0  0.000000   26  0.037249   15  0.021490\n",
       "       both          34  0.048711   0  0.000000   29  0.041547   22  0.031519\n",
       "       sum           70  0.100287   0  0.000000   77  0.110315   56  0.080229\n",
       "cc     conceptId     24  0.034384  22  0.031519    0  0.000000   11  0.015759\n",
       "       equivalence   26  0.037249  26  0.037249    0  0.000000   17  0.024355\n",
       "       both          50  0.071633  29  0.041547    0  0.000000    6  0.008596\n",
       "       sum          100  0.143266  77  0.110315    0  0.000000   34  0.048711\n",
       "cons   conceptId     24  0.034384  19  0.027221   11  0.015759    0  0.000000\n",
       "       equivalence   30  0.042980  15  0.021490   17  0.024355    0  0.000000\n",
       "       both          53  0.075931  22  0.031519    6  0.008596    0  0.000000\n",
       "       sum          107  0.153295  56  0.080229   34  0.048711    0  0.000000"
      ]
     },
     "execution_count": 20,
     "metadata": {},
     "output_type": "execute_result"
    }
   ],
   "source": [
    "df_rowchange"
   ]
  },
  {
   "cell_type": "code",
   "execution_count": 21,
   "metadata": {},
   "outputs": [],
   "source": [
    "df_rowchange.to_excel(outdir + \"/MapCompare/rowchange.xlsx\")"
   ]
  }
 ],
 "metadata": {
  "kernelspec": {
   "display_name": "Python 3.10.4 ('ucsdVocabMap')",
   "language": "python",
   "name": "python3"
  },
  "language_info": {
   "codemirror_mode": {
    "name": "ipython",
    "version": 3
   },
   "file_extension": ".py",
   "mimetype": "text/x-python",
   "name": "python",
   "nbconvert_exporter": "python",
   "pygments_lexer": "ipython3",
   "version": "3.10.8"
  },
  "orig_nbformat": 4,
  "vscode": {
   "interpreter": {
    "hash": "8911727b8d453bd647756eb3276a698202ff1bf11ce1bf5892797b533680b196"
   }
  }
 },
 "nbformat": 4,
 "nbformat_minor": 2
}
